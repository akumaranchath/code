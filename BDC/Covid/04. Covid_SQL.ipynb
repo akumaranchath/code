{
    "metadata": {
        "kernelspec": {
            "name": "SQL",
            "display_name": "SQL",
            "language": "sql"
        },
        "language_info": {
            "name": "sql",
            "version": ""
        }
    },
    "nbformat_minor": 2,
    "nbformat": 4,
    "cells": [
        {
            "cell_type": "code",
            "source": [
                "USE COVID"
            ],
            "metadata": {
                "azdata_cell_guid": "9741c6e4-b15b-4d3b-b37e-5d281f50ddaf"
            },
            "outputs": [],
            "execution_count": null
        },
        {
            "cell_type": "code",
            "source": [
                "SELECT TOP 10 * FROM sp_parquet.covid_recovered ORDER BY DATE DESC"
            ],
            "metadata": {
                "azdata_cell_guid": "d4ee016d-a95d-41f4-8113-5dee1e7a937b"
            },
            "outputs": [],
            "execution_count": null
        },
        {
            "cell_type": "code",
            "source": [
                "TRUNCATE TABLE dp.Covid_Development\r\n",
                "INSERT INTO dp.Covid_Development\r\n",
                "SELECT C.Country, c.[DATE] DTE, CONVERT(NVARCHAR(10), c.DATE, 103) DTE_Str, SUM(Confirmed) Confirmed,\r\n",
                " SUM(ISNULL(Recovered, 0)) Recovered, SUM(ISNULL(deaths, 0)) Deaths, SUM(Confirmed)-SUM(ISNULL(deaths, 0))-SUM(ISNULL(Recovered, 0)) Active\r\n",
                "FROM sp_parquet.covid_confirmed c\r\n",
                "     LEFT JOIN sp_parquet.covid_recovered r ON C.DATE=r.DATE AND c.country=r.country AND c.province=r.province\r\n",
                "     LEFT JOIN sp_parquet.covid_deaths d ON C.DATE=d.DATE AND c.country=d.country AND c.province=d.province\r\n",
                "GROUP BY C.Country, c.[DATE]"
            ],
            "metadata": {
                "azdata_cell_guid": "a35b8663-6047-4763-875d-7c68674f26a5",
                "tags": []
            },
            "outputs": [],
            "execution_count": null
        },
        {
            "cell_type": "code",
            "source": [
                "SELECT count(*) FROM [dp].[Covid_Development]"
            ],
            "metadata": {
                "azdata_cell_guid": "ff903de1-99a2-4e54-9b33-0dc848f806e4"
            },
            "outputs": [],
            "execution_count": null
        },
        {
            "cell_type": "code",
            "source": [
                "EXEC ('USE [Covid]; SELECT count(*)  FROM dp.Covid_Development') AT Data_Source SqlDataPool"
            ],
            "metadata": {
                "azdata_cell_guid": "664a14d5-bbef-431d-87d3-9508b25cd987"
            },
            "outputs": [],
            "execution_count": null
        },
        {
            "cell_type": "code",
            "source": [
                "SELECT Top 10 * FROM dp.Covid_Development WHERE country = 'Germany' order by dte desc"
            ],
            "metadata": {
                "azdata_cell_guid": "c6b5e564-d1f1-4efc-9b4c-21ae63471663"
            },
            "outputs": [],
            "execution_count": null
        },
        {
            "cell_type": "code",
            "source": [
                "SELECT TOP 10 * FROM sp_csv.population"
            ],
            "metadata": {
                "azdata_cell_guid": "37ac393f-02ed-4a58-8375-a8b531c92fb5"
            },
            "outputs": [],
            "execution_count": null
        },
        {
            "cell_type": "code",
            "source": [
                "SELECT DISTINCT Country\r\n",
                "FROM dp.Covid_Development\r\n",
                "WHERE NOT country IN(SELECT country FROM sp_csv.population)"
            ],
            "metadata": {
                "azdata_cell_guid": "fb9c0d97-1e3e-43d1-8cc0-e13b8810b257"
            },
            "outputs": [],
            "execution_count": null
        },
        {
            "cell_type": "code",
            "source": [
                "SELECT TOP 10 * FROM mi.Mapping_Country"
            ],
            "metadata": {
                "azdata_cell_guid": "95748743-7d41-4d4d-8174-9a3b81fea5c8"
            },
            "outputs": [],
            "execution_count": null
        },
        {
            "cell_type": "code",
            "source": [
                "SELECT TOP 3 *\r\n",
                "FROM mi.Mapping_Country\r\n",
                "WHERE Ctry_Covid<>Ctry_Population\r\n",
                "ORDER BY ctry_covid"
            ],
            "metadata": {
                "azdata_cell_guid": "b978b5f2-a7b7-47c6-9370-057a691b7e6a"
            },
            "outputs": [],
            "execution_count": null
        },
        {
            "cell_type": "code",
            "source": [
                "SELECT *\r\n",
                "FROM(SELECT Dte, a.country, population, confirmed, active, active * 1000000 / population Active_PerMillion\r\n",
                "     FROM dp.Covid_Development a\r\n",
                "          INNER JOIN mi.Mapping_Country b ON a.country=b.ctry_covid\r\n",
                "          INNER JOIN sp_csv.population c ON c.country=b.Ctry_Population\r\n",
                "     WHERE dte IN (SELECT MAX(Date)FROM sp_parquet.covid_confirmed) and active > 0) a\r\n",
                "ORDER BY Active_PerMillion DESC"
            ],
            "metadata": {
                "azdata_cell_guid": "ad804737-44da-49cd-a7bc-ed1986ef062e"
            },
            "outputs": [],
            "execution_count": null
        }
    ]
}