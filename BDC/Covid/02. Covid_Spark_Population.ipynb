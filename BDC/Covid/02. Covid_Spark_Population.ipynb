{
    "metadata": {
        "kernelspec": {
            "name": "pysparkkernel",
            "display_name": "PySpark"
        },
        "language_info": {
            "name": "pyspark",
            "mimetype": "text/x-python",
            "codemirror_mode": {
                "name": "python",
                "version": 2
            },
            "pygments_lexer": "python2"
        }
    },
    "nbformat_minor": 2,
    "nbformat": 4,
    "cells": [
        {
            "cell_type": "markdown",
            "source": [
                "https://github.com/datasets/population/tree/master/data\r\n",
                ""
            ],
            "metadata": {
                "azdata_cell_guid": "49f3664f-fca3-407f-8011-fbde655e1a72"
            }
        },
        {
            "cell_type": "code",
            "source": [
                "from pyspark.sql.types import *\r\n",
                "import pandas as pd\r\n",
                "df = pd.read_csv(\"https://raw.githubusercontent.com/datasets/population/master/data/population.csv\")\r\n",
                "df = df.drop(columns=['Country Code'])\r\n",
                "df_spark = spark.createDataFrame(df).filter(\"Year == 2018\")\r\n",
                "df_spark = df_spark.drop(\"Year\")\r\n",
                "df_spark.write.format('csv').option('header',True).mode('overwrite').save('/covid/csv/population')\r\n",
                "df_spark.sort([\"Value\"], ascending=False).show(5)"
            ],
            "metadata": {
                "azdata_cell_guid": "18768c22-9a44-4656-b42f-7e5666cb4495",
                "tags": []
            },
            "outputs": [],
            "execution_count": null
        }
    ]
}