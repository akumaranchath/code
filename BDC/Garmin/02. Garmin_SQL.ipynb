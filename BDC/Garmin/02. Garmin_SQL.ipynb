{
    "metadata": {
        "kernelspec": {
            "name": "SQL",
            "display_name": "SQL",
            "language": "sql"
        },
        "language_info": {
            "name": "sql",
            "version": ""
        }
    },
    "nbformat_minor": 2,
    "nbformat": 4,
    "cells": [
        {
            "cell_type": "code",
            "source": [
                "USE master\r\n",
                "GO\r\n",
                "IF NOT EXISTS(SELECT * FROM sys.databases WHERE name = 'running')\r\n",
                "    CREATE DATABASE running"
            ],
            "metadata": {
                "azdata_cell_guid": "834e9873-fbe4-4ace-a8b1-601f2f84f09d"
            },
            "outputs": [],
            "execution_count": null
        },
        {
            "cell_type": "code",
            "source": [
                "USE running"
            ],
            "metadata": {
                "azdata_cell_guid": "a8a9c9d8-d1b2-41f3-a346-19075568a6ac"
            },
            "outputs": [],
            "execution_count": null
        },
        {
            "cell_type": "code",
            "source": [
                "IF NOT EXISTS(SELECT * FROM sys.external_data_sources WHERE name = 'SqlStoragePool')\r\n",
                "    CREATE EXTERNAL DATA SOURCE SqlStoragePool\r\n",
                "    WITH (LOCATION = 'sqlhdfs://controller-svc/default');"
            ],
            "metadata": {
                "azdata_cell_guid": "34469737-1431-4a5b-ad1e-44be6c4f9e0b"
            },
            "outputs": [],
            "execution_count": null
        },
        {
            "cell_type": "code",
            "source": [
                "IF NOT EXISTS(SELECT * FROM sys.external_file_formats WHERE name = 'parquet_file')\r\n",
                "    CREATE EXTERNAL FILE FORMAT parquet_file\r\n",
                "    WITH (\r\n",
                "        FORMAT_TYPE = PARQUET\r\n",
                "    );"
            ],
            "metadata": {
                "azdata_cell_guid": "5a58e574-da6a-4411-87ca-9272fe6186a6"
            },
            "outputs": [],
            "execution_count": null
        },
        {
            "cell_type": "code",
            "source": [
                "IF EXISTS(SELECT * FROM sys.external_tables WHERE name = 'activities')\r\n",
                "    DROP EXTERNAL TABLE activities"
            ],
            "metadata": {
                "azdata_cell_guid": "2ddc0ddc-be7f-49bd-91a0-8ca82d6fcd8a"
            },
            "outputs": [],
            "execution_count": null
        },
        {
            "cell_type": "code",
            "source": [
                "IF NOT EXISTS(SELECT * FROM sys.external_tables WHERE name = 'activities')\r\n",
                "    CREATE EXTERNAL TABLE [activities]\r\n",
                "    (\"Runner\" VARCHAR(50) ,\r\n",
                "    \"DTE\" Date ,\r\n",
                "    \"Activity\" VARCHAR(50) COLLATE LATIN1_GENERAL_100_CI_AS_SC_UTF8,\r\n",
                "    \"Distance\" float ,\r\n",
                "    \"Duration\" float)\r\n",
                "    WITH\r\n",
                "    (\r\n",
                "        DATA_SOURCE = SqlStoragePool,\r\n",
                "        LOCATION = '/running/parquet',\r\n",
                "        FILE_FORMAT = parquet_file\r\n",
                "    );"
            ],
            "metadata": {
                "azdata_cell_guid": "500d7c09-38c3-49f4-b20f-0702353cd42d"
            },
            "outputs": [],
            "execution_count": null
        },
        {
            "cell_type": "code",
            "source": [
                "SELECT TOP 5 * from activities"
            ],
            "metadata": {
                "azdata_cell_guid": "548b8601-54ed-4b30-934a-75d5b692e471"
            },
            "outputs": [],
            "execution_count": null
        },
        {
            "cell_type": "code",
            "source": [
                "SELECT DATEPART(year, DTE)* 100+DATEPART(month, DTE) MT, round(SUM(Distance / 1000),1) KM\r\n",
                "FROM activities\r\n",
                "WHERE DTE>='01.01.2019'\r\n",
                "GROUP BY DATEPART(year, DTE)* 100+DATEPART(month, DTE)\r\n",
                "ORDER BY DATEPART(year, DTE)* 100+DATEPART(month, DTE)"
            ],
            "metadata": {
                "azdata_cell_guid": "d4b74545-a599-498c-bf78-f9ebacc8a413",
                "tags": []
            },
            "outputs": [],
            "execution_count": null
        }
    ]
}