{
    "metadata": {
        "kernelspec": {
            "name": "pysparkkernel",
            "display_name": "PySpark"
        },
        "language_info": {
            "name": "pyspark",
            "mimetype": "text/x-python",
            "codemirror_mode": {
                "name": "python",
                "version": 2
            },
            "pygments_lexer": "python2"
        }
    },
    "nbformat_minor": 2,
    "nbformat": 4,
    "cells": [
        {
            "cell_type": "markdown",
            "source": [
                "https://pypi.org/project/garminconnect/"
            ],
            "metadata": {
                "azdata_cell_guid": "a94f3f90-960c-45f8-a743-95d27be0031f"
            }
        },
        {
            "cell_type": "code",
            "source": [
                "import pandas as pd\r\n",
                "import json"
            ],
            "metadata": {
                "azdata_cell_guid": "912a94fb-5366-48c2-92a5-ed210b8cb7bf",
                "tags": [
                    "hide_input"
                ]
            },
            "outputs": [],
            "execution_count": null
        },
        {
            "cell_type": "code",
            "source": [
                "import subprocess\r\n",
                "stdout = subprocess.check_output(\r\n",
                "    \"pip3 install garminconnect==0.1.13\",\r\n",
                "    stderr=subprocess.STDOUT,\r\n",
                "    shell=True).decode(\"utf-8\")\r\n",
                "print(stdout)"
            ],
            "metadata": {
                "azdata_cell_guid": "19b1c5e7-8904-4b95-8efe-bd36d5594a04",
                "tags": []
            },
            "outputs": [],
            "execution_count": null
        },
        {
            "cell_type": "code",
            "source": [
                "from garminconnect import Garmin"
            ],
            "metadata": {
                "azdata_cell_guid": "f026c2de-e816-4b15-9ae2-1ea87f8794b7",
                "tags": []
            },
            "outputs": [],
            "execution_count": null
        },
        {
            "cell_type": "code",
            "source": [
                "# Set Username and PW here!\r\n",
                "Garmin_User = ''\r\n",
                "Garmin_PW = ''"
            ],
            "metadata": {
                "azdata_cell_guid": "5df203a4-c8ab-4d9f-ab98-ea281cd223ac",
                "tags": []
            },
            "outputs": [],
            "execution_count": null
        },
        {
            "cell_type": "code",
            "source": [
                "client = Garmin(Garmin_User, Garmin_PW)\r\n",
                "client.login()"
            ],
            "metadata": {
                "azdata_cell_guid": "343b94cb-455e-4725-8cc8-c63569fd18c9",
                "tags": []
            },
            "outputs": [],
            "execution_count": null
        },
        {
            "cell_type": "code",
            "source": [
                "activities = json.dumps(client.get_activities(0,10000))\r\n",
                "df = spark.read.json(sc.parallelize([activities]))\r\n",
                "df.createOrReplaceTempView(\"tmpView\")\r\n",
                "df = spark.sql(\"SELECT ownerFullName Runner,Date(startTimeGMT) DTE,String(activityName) Activity,round(distance,2) Distance,round(movingDuration,2) Duration FROM tmpView where String(activityType) like '%running%'\")\r\n",
                "df.show(5)\r\n",
                "df.write.format('parquet').mode('overwrite').saveAsTable('garmin',path='/running/parquet')\r\n",
                "df.write.format('csv').mode('overwrite').saveAsTable('garmin',path='/running/csv')"
            ],
            "metadata": {
                "azdata_cell_guid": "4035fd01-2dcb-436c-8be5-270857ff241a",
                "tags": []
            },
            "outputs": [],
            "execution_count": null
        }
    ]
}